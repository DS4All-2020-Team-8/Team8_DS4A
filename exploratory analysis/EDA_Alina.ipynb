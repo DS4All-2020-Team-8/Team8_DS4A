{
 "cells": [
  {
   "cell_type": "markdown",
   "metadata": {},
   "source": [
    "# Full EDA of non-temporal data"
   ]
  },
  {
   "cell_type": "code",
   "execution_count": 122,
   "metadata": {},
   "outputs": [],
   "source": [
    "import pandas as pd\n",
    "import sklearn as sk\n",
    "from pandas_profiling import ProfileReport"
   ]
  },
  {
   "cell_type": "markdown",
   "metadata": {},
   "source": [
    "### Merging non-time-series data into one frame"
   ]
  },
  {
   "cell_type": "code",
   "execution_count": 133,
   "metadata": {},
   "outputs": [
    {
     "data": {
      "text/html": [
       "<div>\n",
       "<style scoped>\n",
       "    .dataframe tbody tr th:only-of-type {\n",
       "        vertical-align: middle;\n",
       "    }\n",
       "\n",
       "    .dataframe tbody tr th {\n",
       "        vertical-align: top;\n",
       "    }\n",
       "\n",
       "    .dataframe thead th {\n",
       "        text-align: right;\n",
       "    }\n",
       "</style>\n",
       "<table border=\"1\" class=\"dataframe\">\n",
       "  <thead>\n",
       "    <tr style=\"text-align: right;\">\n",
       "      <th></th>\n",
       "      <th>Country Code</th>\n",
       "      <th>TableName</th>\n",
       "      <th>IncomeGroup</th>\n",
       "    </tr>\n",
       "  </thead>\n",
       "  <tbody>\n",
       "    <tr>\n",
       "      <th>0</th>\n",
       "      <td>ABW</td>\n",
       "      <td>Aruba</td>\n",
       "      <td>High income</td>\n",
       "    </tr>\n",
       "    <tr>\n",
       "      <th>1</th>\n",
       "      <td>AFG</td>\n",
       "      <td>Afghanistan</td>\n",
       "      <td>Low income</td>\n",
       "    </tr>\n",
       "    <tr>\n",
       "      <th>2</th>\n",
       "      <td>AGO</td>\n",
       "      <td>Angola</td>\n",
       "      <td>Lower middle income</td>\n",
       "    </tr>\n",
       "    <tr>\n",
       "      <th>3</th>\n",
       "      <td>ALB</td>\n",
       "      <td>Albania</td>\n",
       "      <td>Upper middle income</td>\n",
       "    </tr>\n",
       "    <tr>\n",
       "      <th>4</th>\n",
       "      <td>AND</td>\n",
       "      <td>Andorra</td>\n",
       "      <td>High income</td>\n",
       "    </tr>\n",
       "  </tbody>\n",
       "</table>\n",
       "</div>"
      ],
      "text/plain": [
       "  Country Code    TableName          IncomeGroup\n",
       "0          ABW        Aruba          High income\n",
       "1          AFG  Afghanistan           Low income\n",
       "2          AGO       Angola  Lower middle income\n",
       "3          ALB      Albania  Upper middle income\n",
       "4          AND      Andorra          High income"
      ]
     },
     "execution_count": 133,
     "metadata": {},
     "output_type": "execute_result"
    }
   ],
   "source": [
    "income = pd.read_csv(\"data/country_income_labels.csv\")\n",
    "income = income[['Country Code', 'TableName', 'IncomeGroup']]\n",
    "income.head()"
   ]
  },
  {
   "cell_type": "code",
   "execution_count": 134,
   "metadata": {},
   "outputs": [
    {
     "data": {
      "text/html": [
       "<div>\n",
       "<style scoped>\n",
       "    .dataframe tbody tr th:only-of-type {\n",
       "        vertical-align: middle;\n",
       "    }\n",
       "\n",
       "    .dataframe tbody tr th {\n",
       "        vertical-align: top;\n",
       "    }\n",
       "\n",
       "    .dataframe thead th {\n",
       "        text-align: right;\n",
       "    }\n",
       "</style>\n",
       "<table border=\"1\" class=\"dataframe\">\n",
       "  <thead>\n",
       "    <tr style=\"text-align: right;\">\n",
       "      <th></th>\n",
       "      <th>Country Code</th>\n",
       "      <th>Density_2018</th>\n",
       "    </tr>\n",
       "  </thead>\n",
       "  <tbody>\n",
       "    <tr>\n",
       "      <th>0</th>\n",
       "      <td>ABW</td>\n",
       "      <td>588.027778</td>\n",
       "    </tr>\n",
       "    <tr>\n",
       "      <th>1</th>\n",
       "      <td>AFG</td>\n",
       "      <td>56.937760</td>\n",
       "    </tr>\n",
       "    <tr>\n",
       "      <th>2</th>\n",
       "      <td>AGO</td>\n",
       "      <td>24.713052</td>\n",
       "    </tr>\n",
       "    <tr>\n",
       "      <th>3</th>\n",
       "      <td>ALB</td>\n",
       "      <td>104.612263</td>\n",
       "    </tr>\n",
       "    <tr>\n",
       "      <th>4</th>\n",
       "      <td>AND</td>\n",
       "      <td>163.842553</td>\n",
       "    </tr>\n",
       "  </tbody>\n",
       "</table>\n",
       "</div>"
      ],
      "text/plain": [
       "  Country Code  Density_2018\n",
       "0          ABW    588.027778\n",
       "1          AFG     56.937760\n",
       "2          AGO     24.713052\n",
       "3          ALB    104.612263\n",
       "4          AND    163.842553"
      ]
     },
     "execution_count": 134,
     "metadata": {},
     "output_type": "execute_result"
    }
   ],
   "source": [
    "density = pd.read_csv(\"data/API_EN.POP.DNST.csv\")\n",
    "density = density[['Country Code', '2018']]\n",
    "density.columns = ['Country Code', 'Density_2018']\n",
    "density.head()"
   ]
  },
  {
   "cell_type": "code",
   "execution_count": 135,
   "metadata": {},
   "outputs": [
    {
     "data": {
      "text/html": [
       "<div>\n",
       "<style scoped>\n",
       "    .dataframe tbody tr th:only-of-type {\n",
       "        vertical-align: middle;\n",
       "    }\n",
       "\n",
       "    .dataframe tbody tr th {\n",
       "        vertical-align: top;\n",
       "    }\n",
       "\n",
       "    .dataframe thead th {\n",
       "        text-align: right;\n",
       "    }\n",
       "</style>\n",
       "<table border=\"1\" class=\"dataframe\">\n",
       "  <thead>\n",
       "    <tr style=\"text-align: right;\">\n",
       "      <th></th>\n",
       "      <th>Country Code</th>\n",
       "      <th>Confirmed Cases</th>\n",
       "      <th>Deaths</th>\n",
       "      <th>Mortality Rate</th>\n",
       "    </tr>\n",
       "  </thead>\n",
       "  <tbody>\n",
       "    <tr>\n",
       "      <th>0</th>\n",
       "      <td>AFG</td>\n",
       "      <td>39192.0</td>\n",
       "      <td>1453.0</td>\n",
       "      <td>3.707389</td>\n",
       "    </tr>\n",
       "    <tr>\n",
       "      <th>1</th>\n",
       "      <td>ALB</td>\n",
       "      <td>13153.0</td>\n",
       "      <td>375.0</td>\n",
       "      <td>2.851061</td>\n",
       "    </tr>\n",
       "    <tr>\n",
       "      <th>2</th>\n",
       "      <td>DZA</td>\n",
       "      <td>50914.0</td>\n",
       "      <td>1711.0</td>\n",
       "      <td>3.360569</td>\n",
       "    </tr>\n",
       "    <tr>\n",
       "      <th>3</th>\n",
       "      <td>AND</td>\n",
       "      <td>1836.0</td>\n",
       "      <td>53.0</td>\n",
       "      <td>2.886710</td>\n",
       "    </tr>\n",
       "    <tr>\n",
       "      <th>4</th>\n",
       "      <td>AGO</td>\n",
       "      <td>4672.0</td>\n",
       "      <td>171.0</td>\n",
       "      <td>3.660103</td>\n",
       "    </tr>\n",
       "  </tbody>\n",
       "</table>\n",
       "</div>"
      ],
      "text/plain": [
       "  Country Code  Confirmed Cases  Deaths  Mortality Rate\n",
       "0          AFG          39192.0  1453.0        3.707389\n",
       "1          ALB          13153.0   375.0        2.851061\n",
       "2          DZA          50914.0  1711.0        3.360569\n",
       "3          AND           1836.0    53.0        2.886710\n",
       "4          AGO           4672.0   171.0        3.660103"
      ]
     },
     "execution_count": 135,
     "metadata": {},
     "output_type": "execute_result"
    }
   ],
   "source": [
    "cases = pd.read_csv(\"data/cases_country.csv\")\n",
    "cases = cases[['ISO3','Confirmed', 'Deaths', 'Mortality_Rate']]\n",
    "cases.columns = ['Country Code', 'Confirmed Cases', 'Deaths', 'Mortality Rate']\n",
    "cases.head()"
   ]
  },
  {
   "cell_type": "code",
   "execution_count": 136,
   "metadata": {},
   "outputs": [
    {
     "data": {
      "text/html": [
       "<div>\n",
       "<style scoped>\n",
       "    .dataframe tbody tr th:only-of-type {\n",
       "        vertical-align: middle;\n",
       "    }\n",
       "\n",
       "    .dataframe tbody tr th {\n",
       "        vertical-align: top;\n",
       "    }\n",
       "\n",
       "    .dataframe thead th {\n",
       "        text-align: right;\n",
       "    }\n",
       "</style>\n",
       "<table border=\"1\" class=\"dataframe\">\n",
       "  <thead>\n",
       "    <tr style=\"text-align: right;\">\n",
       "      <th></th>\n",
       "      <th>Country Code</th>\n",
       "      <th>Population_2019</th>\n",
       "    </tr>\n",
       "  </thead>\n",
       "  <tbody>\n",
       "    <tr>\n",
       "      <th>0</th>\n",
       "      <td>ABW</td>\n",
       "      <td>106314.0</td>\n",
       "    </tr>\n",
       "    <tr>\n",
       "      <th>1</th>\n",
       "      <td>AFG</td>\n",
       "      <td>38041754.0</td>\n",
       "    </tr>\n",
       "    <tr>\n",
       "      <th>2</th>\n",
       "      <td>AGO</td>\n",
       "      <td>31825295.0</td>\n",
       "    </tr>\n",
       "    <tr>\n",
       "      <th>3</th>\n",
       "      <td>ALB</td>\n",
       "      <td>2854191.0</td>\n",
       "    </tr>\n",
       "    <tr>\n",
       "      <th>4</th>\n",
       "      <td>AND</td>\n",
       "      <td>77142.0</td>\n",
       "    </tr>\n",
       "  </tbody>\n",
       "</table>\n",
       "</div>"
      ],
      "text/plain": [
       "  Country Code  Population_2019\n",
       "0          ABW         106314.0\n",
       "1          AFG       38041754.0\n",
       "2          AGO       31825295.0\n",
       "3          ALB        2854191.0\n",
       "4          AND          77142.0"
      ]
     },
     "execution_count": 136,
     "metadata": {},
     "output_type": "execute_result"
    }
   ],
   "source": [
    "population = pd.read_csv(\"data/Population_country.csv\")\n",
    "population = population[['Country Code', '2019']]\n",
    "population.columns = ['Country Code', 'Population_2019']\n",
    "population.head()"
   ]
  },
  {
   "cell_type": "code",
   "execution_count": 137,
   "metadata": {},
   "outputs": [
    {
     "data": {
      "text/html": [
       "<div>\n",
       "<style scoped>\n",
       "    .dataframe tbody tr th:only-of-type {\n",
       "        vertical-align: middle;\n",
       "    }\n",
       "\n",
       "    .dataframe tbody tr th {\n",
       "        vertical-align: top;\n",
       "    }\n",
       "\n",
       "    .dataframe thead th {\n",
       "        text-align: right;\n",
       "    }\n",
       "</style>\n",
       "<table border=\"1\" class=\"dataframe\">\n",
       "  <thead>\n",
       "    <tr style=\"text-align: right;\">\n",
       "      <th></th>\n",
       "      <th>Country Code</th>\n",
       "      <th>GDP_2019</th>\n",
       "    </tr>\n",
       "  </thead>\n",
       "  <tbody>\n",
       "    <tr>\n",
       "      <th>0</th>\n",
       "      <td>ABW</td>\n",
       "      <td>NaN</td>\n",
       "    </tr>\n",
       "    <tr>\n",
       "      <th>1</th>\n",
       "      <td>AFG</td>\n",
       "      <td>1.910135e+10</td>\n",
       "    </tr>\n",
       "    <tr>\n",
       "      <th>2</th>\n",
       "      <td>AGO</td>\n",
       "      <td>9.463542e+10</td>\n",
       "    </tr>\n",
       "    <tr>\n",
       "      <th>3</th>\n",
       "      <td>ALB</td>\n",
       "      <td>1.527808e+10</td>\n",
       "    </tr>\n",
       "    <tr>\n",
       "      <th>4</th>\n",
       "      <td>AND</td>\n",
       "      <td>3.154058e+09</td>\n",
       "    </tr>\n",
       "  </tbody>\n",
       "</table>\n",
       "</div>"
      ],
      "text/plain": [
       "  Country Code      GDP_2019\n",
       "0          ABW           NaN\n",
       "1          AFG  1.910135e+10\n",
       "2          AGO  9.463542e+10\n",
       "3          ALB  1.527808e+10\n",
       "4          AND  3.154058e+09"
      ]
     },
     "execution_count": 137,
     "metadata": {},
     "output_type": "execute_result"
    }
   ],
   "source": [
    "gdp = pd.read_csv(\"data/API_NY.GDP.MKTP.CD.csv\")\n",
    "gdp = gdp[['Country Code', '2019']]\n",
    "gdp.columns = ['Country Code', 'GDP_2019']\n",
    "gdp.head()"
   ]
  },
  {
   "cell_type": "code",
   "execution_count": 138,
   "metadata": {
    "scrolled": true
   },
   "outputs": [
    {
     "data": {
      "text/html": [
       "<div>\n",
       "<style scoped>\n",
       "    .dataframe tbody tr th:only-of-type {\n",
       "        vertical-align: middle;\n",
       "    }\n",
       "\n",
       "    .dataframe tbody tr th {\n",
       "        vertical-align: top;\n",
       "    }\n",
       "\n",
       "    .dataframe thead th {\n",
       "        text-align: right;\n",
       "    }\n",
       "</style>\n",
       "<table border=\"1\" class=\"dataframe\">\n",
       "  <thead>\n",
       "    <tr style=\"text-align: right;\">\n",
       "      <th></th>\n",
       "      <th>Country Code</th>\n",
       "      <th>GDP_per_cap_2019</th>\n",
       "    </tr>\n",
       "  </thead>\n",
       "  <tbody>\n",
       "    <tr>\n",
       "      <th>0</th>\n",
       "      <td>ABW</td>\n",
       "      <td>NaN</td>\n",
       "    </tr>\n",
       "    <tr>\n",
       "      <th>1</th>\n",
       "      <td>AFG</td>\n",
       "      <td>2293.551684</td>\n",
       "    </tr>\n",
       "    <tr>\n",
       "      <th>2</th>\n",
       "      <td>AGO</td>\n",
       "      <td>6929.678158</td>\n",
       "    </tr>\n",
       "    <tr>\n",
       "      <th>3</th>\n",
       "      <td>ALB</td>\n",
       "      <td>14495.078514</td>\n",
       "    </tr>\n",
       "    <tr>\n",
       "      <th>4</th>\n",
       "      <td>AND</td>\n",
       "      <td>NaN</td>\n",
       "    </tr>\n",
       "  </tbody>\n",
       "</table>\n",
       "</div>"
      ],
      "text/plain": [
       "  Country Code  GDP_per_cap_2019\n",
       "0          ABW               NaN\n",
       "1          AFG       2293.551684\n",
       "2          AGO       6929.678158\n",
       "3          ALB      14495.078514\n",
       "4          AND               NaN"
      ]
     },
     "execution_count": 138,
     "metadata": {},
     "output_type": "execute_result"
    }
   ],
   "source": [
    "gdp_per_capita = pd.read_csv(\"data/API_NY.GDP.PCAP.PP.CD.csv\")\n",
    "gdp_per_capita = gdp_per_capita[['Country Code', '2019']]\n",
    "gdp_per_capita.columns = ['Country Code', 'GDP_per_cap_2019']\n",
    "gdp_per_capita.head()"
   ]
  },
  {
   "cell_type": "code",
   "execution_count": 139,
   "metadata": {},
   "outputs": [],
   "source": [
    "#leaders = pd.read_csv(\"data/leaders.csv\")\n",
    "#leaders = leaders[['Country Code', 'Main Leader Gender', 'Any Leader Gender']]\n",
    "#leaders.head()"
   ]
  },
  {
   "cell_type": "code",
   "execution_count": 140,
   "metadata": {},
   "outputs": [
    {
     "data": {
      "text/html": [
       "<div>\n",
       "<style scoped>\n",
       "    .dataframe tbody tr th:only-of-type {\n",
       "        vertical-align: middle;\n",
       "    }\n",
       "\n",
       "    .dataframe tbody tr th {\n",
       "        vertical-align: top;\n",
       "    }\n",
       "\n",
       "    .dataframe thead th {\n",
       "        text-align: right;\n",
       "    }\n",
       "</style>\n",
       "<table border=\"1\" class=\"dataframe\">\n",
       "  <thead>\n",
       "    <tr style=\"text-align: right;\">\n",
       "      <th></th>\n",
       "      <th>Country Code</th>\n",
       "      <th>Avg Temp</th>\n",
       "    </tr>\n",
       "  </thead>\n",
       "  <tbody>\n",
       "    <tr>\n",
       "      <th>0</th>\n",
       "      <td>ABW</td>\n",
       "      <td>NaN</td>\n",
       "    </tr>\n",
       "    <tr>\n",
       "      <th>1</th>\n",
       "      <td>AFG</td>\n",
       "      <td>12.60</td>\n",
       "    </tr>\n",
       "    <tr>\n",
       "      <th>2</th>\n",
       "      <td>AGO</td>\n",
       "      <td>21.55</td>\n",
       "    </tr>\n",
       "    <tr>\n",
       "      <th>3</th>\n",
       "      <td>ALB</td>\n",
       "      <td>11.40</td>\n",
       "    </tr>\n",
       "    <tr>\n",
       "      <th>4</th>\n",
       "      <td>AND</td>\n",
       "      <td>7.60</td>\n",
       "    </tr>\n",
       "  </tbody>\n",
       "</table>\n",
       "</div>"
      ],
      "text/plain": [
       "  Country Code  Avg Temp\n",
       "0          ABW       NaN\n",
       "1          AFG     12.60\n",
       "2          AGO     21.55\n",
       "3          ALB     11.40\n",
       "4          AND      7.60"
      ]
     },
     "execution_count": 140,
     "metadata": {},
     "output_type": "execute_result"
    }
   ],
   "source": [
    "temperature = pd.read_csv(\"data/temperature.csv\")\n",
    "temperature = temperature.drop('Country Name', 1)\n",
    "temperature.head()"
   ]
  },
  {
   "cell_type": "code",
   "execution_count": 151,
   "metadata": {},
   "outputs": [
    {
     "data": {
      "text/html": [
       "<div>\n",
       "<style scoped>\n",
       "    .dataframe tbody tr th:only-of-type {\n",
       "        vertical-align: middle;\n",
       "    }\n",
       "\n",
       "    .dataframe tbody tr th {\n",
       "        vertical-align: top;\n",
       "    }\n",
       "\n",
       "    .dataframe thead th {\n",
       "        text-align: right;\n",
       "    }\n",
       "</style>\n",
       "<table border=\"1\" class=\"dataframe\">\n",
       "  <thead>\n",
       "    <tr style=\"text-align: right;\">\n",
       "      <th></th>\n",
       "      <th>Country Code</th>\n",
       "      <th>TableName</th>\n",
       "      <th>IncomeGroup</th>\n",
       "      <th>Density_2018</th>\n",
       "      <th>Confirmed Cases</th>\n",
       "      <th>Deaths</th>\n",
       "      <th>Mortality Rate</th>\n",
       "      <th>Population_2019</th>\n",
       "      <th>GDP_2019</th>\n",
       "      <th>GDP_per_cap_2019</th>\n",
       "      <th>Avg Temp</th>\n",
       "    </tr>\n",
       "  </thead>\n",
       "  <tbody>\n",
       "    <tr>\n",
       "      <th>0</th>\n",
       "      <td>AFG</td>\n",
       "      <td>Afghanistan</td>\n",
       "      <td>Low income</td>\n",
       "      <td>56.937760</td>\n",
       "      <td>39192.0</td>\n",
       "      <td>1453.0</td>\n",
       "      <td>3.707389</td>\n",
       "      <td>38041754.0</td>\n",
       "      <td>1.910135e+10</td>\n",
       "      <td>2293.551684</td>\n",
       "      <td>12.60</td>\n",
       "    </tr>\n",
       "    <tr>\n",
       "      <th>1</th>\n",
       "      <td>AGO</td>\n",
       "      <td>Angola</td>\n",
       "      <td>Lower middle income</td>\n",
       "      <td>24.713052</td>\n",
       "      <td>4672.0</td>\n",
       "      <td>171.0</td>\n",
       "      <td>3.660103</td>\n",
       "      <td>31825295.0</td>\n",
       "      <td>9.463542e+10</td>\n",
       "      <td>6929.678158</td>\n",
       "      <td>21.55</td>\n",
       "    </tr>\n",
       "    <tr>\n",
       "      <th>2</th>\n",
       "      <td>ALB</td>\n",
       "      <td>Albania</td>\n",
       "      <td>Upper middle income</td>\n",
       "      <td>104.612263</td>\n",
       "      <td>13153.0</td>\n",
       "      <td>375.0</td>\n",
       "      <td>2.851061</td>\n",
       "      <td>2854191.0</td>\n",
       "      <td>1.527808e+10</td>\n",
       "      <td>14495.078514</td>\n",
       "      <td>11.40</td>\n",
       "    </tr>\n",
       "    <tr>\n",
       "      <th>3</th>\n",
       "      <td>AND</td>\n",
       "      <td>Andorra</td>\n",
       "      <td>High income</td>\n",
       "      <td>163.842553</td>\n",
       "      <td>1836.0</td>\n",
       "      <td>53.0</td>\n",
       "      <td>2.886710</td>\n",
       "      <td>77142.0</td>\n",
       "      <td>3.154058e+09</td>\n",
       "      <td>NaN</td>\n",
       "      <td>7.60</td>\n",
       "    </tr>\n",
       "    <tr>\n",
       "      <th>4</th>\n",
       "      <td>ARE</td>\n",
       "      <td>United Arab Emirates</td>\n",
       "      <td>High income</td>\n",
       "      <td>135.609110</td>\n",
       "      <td>90618.0</td>\n",
       "      <td>411.0</td>\n",
       "      <td>0.453552</td>\n",
       "      <td>9770529.0</td>\n",
       "      <td>4.211423e+11</td>\n",
       "      <td>69900.877848</td>\n",
       "      <td>27.00</td>\n",
       "    </tr>\n",
       "  </tbody>\n",
       "</table>\n",
       "</div>"
      ],
      "text/plain": [
       "  Country Code             TableName          IncomeGroup  Density_2018  \\\n",
       "0          AFG           Afghanistan           Low income     56.937760   \n",
       "1          AGO                Angola  Lower middle income     24.713052   \n",
       "2          ALB               Albania  Upper middle income    104.612263   \n",
       "3          AND               Andorra          High income    163.842553   \n",
       "4          ARE  United Arab Emirates          High income    135.609110   \n",
       "\n",
       "   Confirmed Cases  Deaths  Mortality Rate  Population_2019      GDP_2019  \\\n",
       "0          39192.0  1453.0        3.707389       38041754.0  1.910135e+10   \n",
       "1           4672.0   171.0        3.660103       31825295.0  9.463542e+10   \n",
       "2          13153.0   375.0        2.851061        2854191.0  1.527808e+10   \n",
       "3           1836.0    53.0        2.886710          77142.0  3.154058e+09   \n",
       "4          90618.0   411.0        0.453552        9770529.0  4.211423e+11   \n",
       "\n",
       "   GDP_per_cap_2019  Avg Temp  \n",
       "0       2293.551684     12.60  \n",
       "1       6929.678158     21.55  \n",
       "2      14495.078514     11.40  \n",
       "3               NaN      7.60  \n",
       "4      69900.877848     27.00  "
      ]
     },
     "execution_count": 151,
     "metadata": {},
     "output_type": "execute_result"
    }
   ],
   "source": [
    "dataset = pd.merge(income, density, on='Country Code')\n",
    "dataset = pd.merge(dataset, cases, on='Country Code')\n",
    "dataset = pd.merge(dataset, population, on='Country Code')\n",
    "dataset = pd.merge(dataset, gdp, on='Country Code')\n",
    "dataset = pd.merge(dataset, gdp_per_capita, on='Country Code')\n",
    "#dataset = pd.merge(dataset, leaders, on='Country Code')\n",
    "dataset = pd.merge(dataset, temperature, on='Country Code')\n",
    "dataset.head()"
   ]
  },
  {
   "cell_type": "code",
   "execution_count": 152,
   "metadata": {},
   "outputs": [
    {
     "data": {
      "text/html": [
       "<div>\n",
       "<style scoped>\n",
       "    .dataframe tbody tr th:only-of-type {\n",
       "        vertical-align: middle;\n",
       "    }\n",
       "\n",
       "    .dataframe tbody tr th {\n",
       "        vertical-align: top;\n",
       "    }\n",
       "\n",
       "    .dataframe thead th {\n",
       "        text-align: right;\n",
       "    }\n",
       "</style>\n",
       "<table border=\"1\" class=\"dataframe\">\n",
       "  <thead>\n",
       "    <tr style=\"text-align: right;\">\n",
       "      <th></th>\n",
       "      <th>Country name</th>\n",
       "      <th>Income group</th>\n",
       "      <th>Density</th>\n",
       "      <th>Confirmed cases</th>\n",
       "      <th>Deaths</th>\n",
       "      <th>Mortality rate</th>\n",
       "      <th>Population</th>\n",
       "      <th>GDP</th>\n",
       "      <th>GDP per cap</th>\n",
       "      <th>Temperature</th>\n",
       "    </tr>\n",
       "  </thead>\n",
       "  <tbody>\n",
       "    <tr>\n",
       "      <th>0</th>\n",
       "      <td>Afghanistan</td>\n",
       "      <td>Low income</td>\n",
       "      <td>56.937760</td>\n",
       "      <td>39192.0</td>\n",
       "      <td>1453.0</td>\n",
       "      <td>3.707389</td>\n",
       "      <td>38041754.0</td>\n",
       "      <td>1.910135e+10</td>\n",
       "      <td>2293.551684</td>\n",
       "      <td>12.60</td>\n",
       "    </tr>\n",
       "    <tr>\n",
       "      <th>1</th>\n",
       "      <td>Angola</td>\n",
       "      <td>Lower middle income</td>\n",
       "      <td>24.713052</td>\n",
       "      <td>4672.0</td>\n",
       "      <td>171.0</td>\n",
       "      <td>3.660103</td>\n",
       "      <td>31825295.0</td>\n",
       "      <td>9.463542e+10</td>\n",
       "      <td>6929.678158</td>\n",
       "      <td>21.55</td>\n",
       "    </tr>\n",
       "    <tr>\n",
       "      <th>2</th>\n",
       "      <td>Albania</td>\n",
       "      <td>Upper middle income</td>\n",
       "      <td>104.612263</td>\n",
       "      <td>13153.0</td>\n",
       "      <td>375.0</td>\n",
       "      <td>2.851061</td>\n",
       "      <td>2854191.0</td>\n",
       "      <td>1.527808e+10</td>\n",
       "      <td>14495.078514</td>\n",
       "      <td>11.40</td>\n",
       "    </tr>\n",
       "    <tr>\n",
       "      <th>3</th>\n",
       "      <td>Andorra</td>\n",
       "      <td>High income</td>\n",
       "      <td>163.842553</td>\n",
       "      <td>1836.0</td>\n",
       "      <td>53.0</td>\n",
       "      <td>2.886710</td>\n",
       "      <td>77142.0</td>\n",
       "      <td>3.154058e+09</td>\n",
       "      <td>NaN</td>\n",
       "      <td>7.60</td>\n",
       "    </tr>\n",
       "    <tr>\n",
       "      <th>4</th>\n",
       "      <td>United Arab Emirates</td>\n",
       "      <td>High income</td>\n",
       "      <td>135.609110</td>\n",
       "      <td>90618.0</td>\n",
       "      <td>411.0</td>\n",
       "      <td>0.453552</td>\n",
       "      <td>9770529.0</td>\n",
       "      <td>4.211423e+11</td>\n",
       "      <td>69900.877848</td>\n",
       "      <td>27.00</td>\n",
       "    </tr>\n",
       "  </tbody>\n",
       "</table>\n",
       "</div>"
      ],
      "text/plain": [
       "           Country name         Income group     Density  Confirmed cases  \\\n",
       "0           Afghanistan           Low income   56.937760          39192.0   \n",
       "1                Angola  Lower middle income   24.713052           4672.0   \n",
       "2               Albania  Upper middle income  104.612263          13153.0   \n",
       "3               Andorra          High income  163.842553           1836.0   \n",
       "4  United Arab Emirates          High income  135.609110          90618.0   \n",
       "\n",
       "   Deaths  Mortality rate  Population           GDP   GDP per cap  Temperature  \n",
       "0  1453.0        3.707389  38041754.0  1.910135e+10   2293.551684        12.60  \n",
       "1   171.0        3.660103  31825295.0  9.463542e+10   6929.678158        21.55  \n",
       "2   375.0        2.851061   2854191.0  1.527808e+10  14495.078514        11.40  \n",
       "3    53.0        2.886710     77142.0  3.154058e+09           NaN         7.60  \n",
       "4   411.0        0.453552   9770529.0  4.211423e+11  69900.877848        27.00  "
      ]
     },
     "execution_count": 152,
     "metadata": {},
     "output_type": "execute_result"
    }
   ],
   "source": [
    "dataset.columns = ['Country Code', 'Country name', 'Income group', 'Density', \n",
    "                   'Confirmed cases', 'Deaths', 'Mortality rate', 'Population', 'GDP', 'GDP per cap', 'Temperature']\n",
    "dataset.drop('Country Code', 1, inplace=True)\n",
    "dataset.head()"
   ]
  },
  {
   "cell_type": "code",
   "execution_count": 155,
   "metadata": {},
   "outputs": [
    {
     "data": {
      "text/html": [
       "<div>\n",
       "<style scoped>\n",
       "    .dataframe tbody tr th:only-of-type {\n",
       "        vertical-align: middle;\n",
       "    }\n",
       "\n",
       "    .dataframe tbody tr th {\n",
       "        vertical-align: top;\n",
       "    }\n",
       "\n",
       "    .dataframe thead th {\n",
       "        text-align: right;\n",
       "    }\n",
       "</style>\n",
       "<table border=\"1\" class=\"dataframe\">\n",
       "  <thead>\n",
       "    <tr style=\"text-align: right;\">\n",
       "      <th></th>\n",
       "      <th>Country name</th>\n",
       "      <th>Confirmed cases</th>\n",
       "      <th>Deaths</th>\n",
       "      <th>Mortality rate</th>\n",
       "      <th>Normalized cases</th>\n",
       "      <th>Normalized deaths</th>\n",
       "      <th>Population</th>\n",
       "      <th>Density</th>\n",
       "      <th>Income group</th>\n",
       "      <th>GDP</th>\n",
       "      <th>GDP per cap</th>\n",
       "      <th>Temperature</th>\n",
       "    </tr>\n",
       "  </thead>\n",
       "  <tbody>\n",
       "    <tr>\n",
       "      <th>0</th>\n",
       "      <td>Afghanistan</td>\n",
       "      <td>39192.0</td>\n",
       "      <td>1453.0</td>\n",
       "      <td>3.707389</td>\n",
       "      <td>0.001030</td>\n",
       "      <td>0.000038</td>\n",
       "      <td>38041754.0</td>\n",
       "      <td>56.937760</td>\n",
       "      <td>Low income</td>\n",
       "      <td>1.910135e+10</td>\n",
       "      <td>2293.551684</td>\n",
       "      <td>12.60</td>\n",
       "    </tr>\n",
       "    <tr>\n",
       "      <th>1</th>\n",
       "      <td>Angola</td>\n",
       "      <td>4672.0</td>\n",
       "      <td>171.0</td>\n",
       "      <td>3.660103</td>\n",
       "      <td>0.000147</td>\n",
       "      <td>0.000005</td>\n",
       "      <td>31825295.0</td>\n",
       "      <td>24.713052</td>\n",
       "      <td>Lower middle income</td>\n",
       "      <td>9.463542e+10</td>\n",
       "      <td>6929.678158</td>\n",
       "      <td>21.55</td>\n",
       "    </tr>\n",
       "    <tr>\n",
       "      <th>2</th>\n",
       "      <td>Albania</td>\n",
       "      <td>13153.0</td>\n",
       "      <td>375.0</td>\n",
       "      <td>2.851061</td>\n",
       "      <td>0.004608</td>\n",
       "      <td>0.000131</td>\n",
       "      <td>2854191.0</td>\n",
       "      <td>104.612263</td>\n",
       "      <td>Upper middle income</td>\n",
       "      <td>1.527808e+10</td>\n",
       "      <td>14495.078514</td>\n",
       "      <td>11.40</td>\n",
       "    </tr>\n",
       "    <tr>\n",
       "      <th>3</th>\n",
       "      <td>Andorra</td>\n",
       "      <td>1836.0</td>\n",
       "      <td>53.0</td>\n",
       "      <td>2.886710</td>\n",
       "      <td>0.023800</td>\n",
       "      <td>0.000687</td>\n",
       "      <td>77142.0</td>\n",
       "      <td>163.842553</td>\n",
       "      <td>High income</td>\n",
       "      <td>3.154058e+09</td>\n",
       "      <td>NaN</td>\n",
       "      <td>7.60</td>\n",
       "    </tr>\n",
       "    <tr>\n",
       "      <th>4</th>\n",
       "      <td>United Arab Emirates</td>\n",
       "      <td>90618.0</td>\n",
       "      <td>411.0</td>\n",
       "      <td>0.453552</td>\n",
       "      <td>0.009275</td>\n",
       "      <td>0.000042</td>\n",
       "      <td>9770529.0</td>\n",
       "      <td>135.609110</td>\n",
       "      <td>High income</td>\n",
       "      <td>4.211423e+11</td>\n",
       "      <td>69900.877848</td>\n",
       "      <td>27.00</td>\n",
       "    </tr>\n",
       "  </tbody>\n",
       "</table>\n",
       "</div>"
      ],
      "text/plain": [
       "           Country name  Confirmed cases  Deaths  Mortality rate  \\\n",
       "0           Afghanistan          39192.0  1453.0        3.707389   \n",
       "1                Angola           4672.0   171.0        3.660103   \n",
       "2               Albania          13153.0   375.0        2.851061   \n",
       "3               Andorra           1836.0    53.0        2.886710   \n",
       "4  United Arab Emirates          90618.0   411.0        0.453552   \n",
       "\n",
       "   Normalized cases  Normalized deaths  Population     Density  \\\n",
       "0          0.001030           0.000038  38041754.0   56.937760   \n",
       "1          0.000147           0.000005  31825295.0   24.713052   \n",
       "2          0.004608           0.000131   2854191.0  104.612263   \n",
       "3          0.023800           0.000687     77142.0  163.842553   \n",
       "4          0.009275           0.000042   9770529.0  135.609110   \n",
       "\n",
       "          Income group           GDP   GDP per cap  Temperature  \n",
       "0           Low income  1.910135e+10   2293.551684        12.60  \n",
       "1  Lower middle income  9.463542e+10   6929.678158        21.55  \n",
       "2  Upper middle income  1.527808e+10  14495.078514        11.40  \n",
       "3          High income  3.154058e+09           NaN         7.60  \n",
       "4          High income  4.211423e+11  69900.877848        27.00  "
      ]
     },
     "execution_count": 155,
     "metadata": {},
     "output_type": "execute_result"
    }
   ],
   "source": [
    "norm_cases, norm_deaths = [], []\n",
    "for index, row in dataset.iterrows():\n",
    "    population, cases, deaths = row['Population'], row['Confirmed cases'], row['Deaths']\n",
    "    norm_cases.append(cases/population)\n",
    "    norm_deaths.append(deaths/population)\n",
    "    \n",
    "dataset['Normalized cases'] = norm_cases\n",
    "dataset['Normalized deaths'] = norm_deaths\n",
    "\n",
    "dataset = dataset[['Country name', 'Confirmed cases', 'Deaths', 'Mortality rate', 'Normalized cases',\n",
    "                   'Normalized deaths', 'Population', 'Density', 'Income group', 'GDP', 'GDP per cap', 'Temperature']]\n",
    "dataset.head()"
   ]
  },
  {
   "cell_type": "code",
   "execution_count": 115,
   "metadata": {},
   "outputs": [],
   "source": [
    "#dataset.to_csv ('data/unified-data-per-country.csv', index = False, header=True)"
   ]
  },
  {
   "cell_type": "markdown",
   "metadata": {},
   "source": [
    "### Generating auto-EDA"
   ]
  },
  {
   "cell_type": "code",
   "execution_count": 156,
   "metadata": {},
   "outputs": [
    {
     "data": {
      "application/vnd.jupyter.widget-view+json": {
       "model_id": "adeee868324546f6aa4cbccd03818f7e",
       "version_major": 2,
       "version_minor": 0
      },
      "text/plain": [
       "HBox(children=(FloatProgress(value=0.0, description='Summarize dataset', max=26.0, style=ProgressStyle(descrip…"
      ]
     },
     "metadata": {},
     "output_type": "display_data"
    },
    {
     "name": "stdout",
     "output_type": "stream",
     "text": [
      "\n"
     ]
    },
    {
     "data": {
      "application/vnd.jupyter.widget-view+json": {
       "model_id": "e6281f7b3793416fae1276709f93d6c5",
       "version_major": 2,
       "version_minor": 0
      },
      "text/plain": [
       "HBox(children=(FloatProgress(value=0.0, description='Generate report structure', max=1.0, style=ProgressStyle(…"
      ]
     },
     "metadata": {},
     "output_type": "display_data"
    },
    {
     "name": "stdout",
     "output_type": "stream",
     "text": [
      "\n"
     ]
    },
    {
     "data": {
      "application/vnd.jupyter.widget-view+json": {
       "model_id": "83862268d3934c8c98b1a4b2d8751fb3",
       "version_major": 2,
       "version_minor": 0
      },
      "text/plain": [
       "HBox(children=(FloatProgress(value=0.0, description='Render HTML', max=1.0, style=ProgressStyle(description_wi…"
      ]
     },
     "metadata": {},
     "output_type": "display_data"
    },
    {
     "name": "stdout",
     "output_type": "stream",
     "text": [
      "\n"
     ]
    },
    {
     "data": {
      "application/vnd.jupyter.widget-view+json": {
       "model_id": "a423866d294d43f6807c4e3b6dab005a",
       "version_major": 2,
       "version_minor": 0
      },
      "text/plain": [
       "HBox(children=(FloatProgress(value=0.0, description='Export report to file', max=1.0, style=ProgressStyle(desc…"
      ]
     },
     "metadata": {},
     "output_type": "display_data"
    },
    {
     "name": "stdout",
     "output_type": "stream",
     "text": [
      "\n"
     ]
    }
   ],
   "source": [
    "#pandas_report = ProfileReport(dataset)\n",
    "#pandas_report.to_file(output_file='my EDA/pandas_report.html')"
   ]
  },
  {
   "cell_type": "code",
   "execution_count": 157,
   "metadata": {},
   "outputs": [],
   "source": [
    "import seaborn as sn\n",
    "import matplotlib.pyplot as plt"
   ]
  },
  {
   "cell_type": "code",
   "execution_count": 179,
   "metadata": {},
   "outputs": [
    {
     "name": "stdout",
     "output_type": "stream",
     "text": [
      "                   Mortality rate  Normalized cases  Normalized deaths  \\\n",
      "Mortality rate           1.000000         -0.027489           0.369425   \n",
      "Normalized cases        -0.027489          1.000000           0.609721   \n",
      "Normalized deaths        0.369425          0.609721           1.000000   \n",
      "Population               0.077915         -0.032193           0.006680   \n",
      "Density                 -0.107120          0.155316          -0.045831   \n",
      "GDP                      0.177466          0.122308           0.216708   \n",
      "GDP per cap              0.085294          0.405387           0.267957   \n",
      "Temperature             -0.057566         -0.085041          -0.252117   \n",
      "\n",
      "                   Population   Density       GDP  GDP per cap  Temperature  \n",
      "Mortality rate       0.077915 -0.107120  0.177466     0.085294    -0.057566  \n",
      "Normalized cases    -0.032193  0.155316  0.122308     0.405387    -0.085041  \n",
      "Normalized deaths    0.006680 -0.045831  0.216708     0.267957    -0.252117  \n",
      "Population           1.000000  0.005549  0.573631    -0.057986    -0.040477  \n",
      "Density              0.005549  1.000000 -0.009921     0.294486     0.125356  \n",
      "GDP                  0.573631 -0.009921  1.000000     0.214056    -0.204666  \n",
      "GDP per cap         -0.057986  0.294486  0.214056     1.000000    -0.393191  \n",
      "Temperature         -0.040477  0.125356 -0.204666    -0.393191     1.000000  \n"
     ]
    },
    {
     "data": {
      "image/png": "[encoded data removed]",
      "text/plain": [
       "<Figure size 720x576 with 2 Axes>"
      ]
     },
     "metadata": {
      "needs_background": "light"
     },
     "output_type": "display_data"
    }
   ],
   "source": [
    "corrMatrix = dataset.corr(method='pearson')\n",
    "print(corrMatrix)\n",
    "plt.figure(figsize=(10, 8))\n",
    "sn.heatmap(corrMatrix, annot=True, cmap=sn.diverging_palette(220, 10, as_cmap=True))\n",
    "plt.show()"
   ]
  },
  {
   "cell_type": "code",
   "execution_count": 177,
   "metadata": {},
   "outputs": [
    {
     "name": "stdout",
     "output_type": "stream",
     "text": [
      "                   Mortality rate  Normalized cases  Normalized deaths  \\\n",
      "Mortality rate           1.000000          0.080686           0.449389   \n",
      "Normalized cases         0.080686          1.000000           0.897711   \n",
      "Normalized deaths        0.449389          0.897711           1.000000   \n",
      "Population               0.349729         -0.120465           0.040160   \n",
      "Density                 -0.139796          0.018409          -0.049789   \n",
      "GDP                      0.293163          0.312314           0.387057   \n",
      "GDP per cap              0.032023          0.540190           0.468235   \n",
      "Temperature             -0.162847         -0.299119          -0.362517   \n",
      "\n",
      "                   Population   Density       GDP  GDP per cap  Temperature  \n",
      "Mortality rate       0.349729 -0.139796  0.293163     0.032023    -0.162847  \n",
      "Normalized cases    -0.120465  0.018409  0.312314     0.540190    -0.299119  \n",
      "Normalized deaths    0.040160 -0.049789  0.387057     0.468235    -0.362517  \n",
      "Population           1.000000 -0.026971  0.709226    -0.162456    -0.052961  \n",
      "Density             -0.026971  1.000000  0.065241     0.102209     0.105411  \n",
      "GDP                  0.709226  0.065241  1.000000     0.536146    -0.367620  \n",
      "GDP per cap         -0.162456  0.102209  0.536146     1.000000    -0.412594  \n",
      "Temperature         -0.052961  0.105411 -0.367620    -0.412594     1.000000  \n"
     ]
    },
    {
     "data": {
      "image/png": "[encoded data removed]",
      "text/plain": [
       "<Figure size 720x576 with 2 Axes>"
      ]
     },
     "metadata": {
      "needs_background": "light"
     },
     "output_type": "display_data"
    }
   ],
   "source": [
    "dataset.drop('Confirmed cases', 1, inplace=True)\n",
    "dataset.drop('Deaths', 1, inplace=True)\n",
    "\n",
    "\n",
    "corrMatrix = dataset.corr(method='spearman')\n",
    "print(corrMatrix)\n",
    "plt.figure(figsize=(10, 8))\n",
    "sn.heatmap(corrMatrix, annot=True, cmap=sn.diverging_palette(220, 10, as_cmap=True))\n",
    "plt.show()"
   ]
  },
  {
   "cell_type": "markdown",
   "metadata": {},
   "source": [
    "### Removing outliers and re-generating the EDA report"
   ]
  },
  {
   "cell_type": "code",
   "execution_count": 185,
   "metadata": {},
   "outputs": [
    {
     "name": "stdout",
     "output_type": "stream",
     "text": [
      "(164, 10)\n",
      "(148, 10)\n"
     ]
    },
    {
     "data": {
      "text/html": [
       "<div>\n",
       "<style scoped>\n",
       "    .dataframe tbody tr th:only-of-type {\n",
       "        vertical-align: middle;\n",
       "    }\n",
       "\n",
       "    .dataframe tbody tr th {\n",
       "        vertical-align: top;\n",
       "    }\n",
       "\n",
       "    .dataframe thead th {\n",
       "        text-align: right;\n",
       "    }\n",
       "</style>\n",
       "<table border=\"1\" class=\"dataframe\">\n",
       "  <thead>\n",
       "    <tr style=\"text-align: right;\">\n",
       "      <th></th>\n",
       "      <th>Country name</th>\n",
       "      <th>Mortality rate</th>\n",
       "      <th>Normalized cases</th>\n",
       "      <th>Normalized deaths</th>\n",
       "      <th>Population</th>\n",
       "      <th>Density</th>\n",
       "      <th>Income group</th>\n",
       "      <th>GDP</th>\n",
       "      <th>GDP per cap</th>\n",
       "      <th>Temperature</th>\n",
       "    </tr>\n",
       "  </thead>\n",
       "  <tbody>\n",
       "    <tr>\n",
       "      <th>0</th>\n",
       "      <td>Afghanistan</td>\n",
       "      <td>3.707389</td>\n",
       "      <td>0.001030</td>\n",
       "      <td>0.000038</td>\n",
       "      <td>38041754.0</td>\n",
       "      <td>56.937760</td>\n",
       "      <td>Low income</td>\n",
       "      <td>1.910135e+10</td>\n",
       "      <td>2293.551684</td>\n",
       "      <td>12.60</td>\n",
       "    </tr>\n",
       "    <tr>\n",
       "      <th>1</th>\n",
       "      <td>Angola</td>\n",
       "      <td>3.660103</td>\n",
       "      <td>0.000147</td>\n",
       "      <td>0.000005</td>\n",
       "      <td>31825295.0</td>\n",
       "      <td>24.713052</td>\n",
       "      <td>Lower middle income</td>\n",
       "      <td>9.463542e+10</td>\n",
       "      <td>6929.678158</td>\n",
       "      <td>21.55</td>\n",
       "    </tr>\n",
       "    <tr>\n",
       "      <th>2</th>\n",
       "      <td>Albania</td>\n",
       "      <td>2.851061</td>\n",
       "      <td>0.004608</td>\n",
       "      <td>0.000131</td>\n",
       "      <td>2854191.0</td>\n",
       "      <td>104.612263</td>\n",
       "      <td>Upper middle income</td>\n",
       "      <td>1.527808e+10</td>\n",
       "      <td>14495.078514</td>\n",
       "      <td>11.40</td>\n",
       "    </tr>\n",
       "    <tr>\n",
       "      <th>4</th>\n",
       "      <td>United Arab Emirates</td>\n",
       "      <td>0.453552</td>\n",
       "      <td>0.009275</td>\n",
       "      <td>0.000042</td>\n",
       "      <td>9770529.0</td>\n",
       "      <td>135.609110</td>\n",
       "      <td>High income</td>\n",
       "      <td>4.211423e+11</td>\n",
       "      <td>69900.877848</td>\n",
       "      <td>27.00</td>\n",
       "    </tr>\n",
       "    <tr>\n",
       "      <th>7</th>\n",
       "      <td>Antigua and Barbuda</td>\n",
       "      <td>3.061224</td>\n",
       "      <td>0.001009</td>\n",
       "      <td>0.000031</td>\n",
       "      <td>97118.0</td>\n",
       "      <td>218.831818</td>\n",
       "      <td>High income</td>\n",
       "      <td>1.727759e+09</td>\n",
       "      <td>22816.452202</td>\n",
       "      <td>26.00</td>\n",
       "    </tr>\n",
       "  </tbody>\n",
       "</table>\n",
       "</div>"
      ],
      "text/plain": [
       "           Country name  Mortality rate  Normalized cases  Normalized deaths  \\\n",
       "0           Afghanistan        3.707389          0.001030           0.000038   \n",
       "1                Angola        3.660103          0.000147           0.000005   \n",
       "2               Albania        2.851061          0.004608           0.000131   \n",
       "4  United Arab Emirates        0.453552          0.009275           0.000042   \n",
       "7   Antigua and Barbuda        3.061224          0.001009           0.000031   \n",
       "\n",
       "   Population     Density         Income group           GDP   GDP per cap  \\\n",
       "0  38041754.0   56.937760           Low income  1.910135e+10   2293.551684   \n",
       "1  31825295.0   24.713052  Lower middle income  9.463542e+10   6929.678158   \n",
       "2   2854191.0  104.612263  Upper middle income  1.527808e+10  14495.078514   \n",
       "4   9770529.0  135.609110          High income  4.211423e+11  69900.877848   \n",
       "7     97118.0  218.831818          High income  1.727759e+09  22816.452202   \n",
       "\n",
       "   Temperature  \n",
       "0        12.60  \n",
       "1        21.55  \n",
       "2        11.40  \n",
       "4        27.00  \n",
       "7        26.00  "
      ]
     },
     "execution_count": 185,
     "metadata": {},
     "output_type": "execute_result"
    }
   ],
   "source": [
    "print(dataset.shape)\n",
    "def remove_outlier(df_in, col_name):\n",
    "    q1 = df_in[col_name].quantile(0.25)\n",
    "    q3 = df_in[col_name].quantile(0.75)\n",
    "    iqr = q3-q1 #Interquartile range\n",
    "    fence_low  = q1-1.5*iqr\n",
    "    fence_high = q3+1.5*iqr\n",
    "    df_out = df_in.loc[(df_in[col_name] > fence_low) & (df_in[col_name] < fence_high)]\n",
    "    return df_out\n",
    "\n",
    "dataset = remove_outlier(dataset, 'Density')\n",
    "#dataset = remove_outlier(dataset, 'GDP_2019')\n",
    "\n",
    "\n",
    "print(dataset.shape)\n",
    "dataset.head()"
   ]
  },
  {
   "cell_type": "code",
   "execution_count": 186,
   "metadata": {},
   "outputs": [
    {
     "data": {
      "application/vnd.jupyter.widget-view+json": {
       "model_id": "f0d09610cf8845b4a63b84e70c3b91bd",
       "version_major": 2,
       "version_minor": 0
      },
      "text/plain": [
       "HBox(children=(FloatProgress(value=0.0, description='Summarize dataset', max=25.0, style=ProgressStyle(descrip…"
      ]
     },
     "metadata": {},
     "output_type": "display_data"
    },
    {
     "name": "stdout",
     "output_type": "stream",
     "text": [
      "\n"
     ]
    },
    {
     "data": {
      "application/vnd.jupyter.widget-view+json": {
       "model_id": "02c4f5bcc332405d909c9896cd8e7818",
       "version_major": 2,
       "version_minor": 0
      },
      "text/plain": [
       "HBox(children=(FloatProgress(value=0.0, description='Generate report structure', max=1.0, style=ProgressStyle(…"
      ]
     },
     "metadata": {},
     "output_type": "display_data"
    },
    {
     "name": "stdout",
     "output_type": "stream",
     "text": [
      "\n"
     ]
    },
    {
     "data": {
      "application/vnd.jupyter.widget-view+json": {
       "model_id": "5f773f0be4144f648216c53add680fed",
       "version_major": 2,
       "version_minor": 0
      },
      "text/plain": [
       "HBox(children=(FloatProgress(value=0.0, description='Render HTML', max=1.0, style=ProgressStyle(description_wi…"
      ]
     },
     "metadata": {},
     "output_type": "display_data"
    },
    {
     "name": "stdout",
     "output_type": "stream",
     "text": [
      "\n"
     ]
    },
    {
     "data": {
      "application/vnd.jupyter.widget-view+json": {
       "model_id": "dda6a69596284418ac2a9301fab3db60",
       "version_major": 2,
       "version_minor": 0
      },
      "text/plain": [
       "HBox(children=(FloatProgress(value=0.0, description='Export report to file', max=1.0, style=ProgressStyle(desc…"
      ]
     },
     "metadata": {},
     "output_type": "display_data"
    },
    {
     "name": "stdout",
     "output_type": "stream",
     "text": [
      "\n"
     ]
    }
   ],
   "source": [
    "pandas_report = ProfileReport(dataset)\n",
    "pandas_report.to_file(output_file='my EDA/pandas_report_outliers_reduced_density_cases.html')"
   ]
  },
  {
   "cell_type": "code",
   "execution_count": 187,
   "metadata": {},
   "outputs": [
    {
     "data": {
      "image/png": "[encoded data removed]",
      "text/plain": [
       "<Figure size 720x576 with 2 Axes>"
      ]
     },
     "metadata": {
      "needs_background": "light"
     },
     "output_type": "display_data"
    },
    {
     "data": {
      "image/png": "[encoded data removed]",
      "text/plain": [
       "<Figure size 720x576 with 2 Axes>"
      ]
     },
     "metadata": {
      "needs_background": "light"
     },
     "output_type": "display_data"
    }
   ],
   "source": [
    "corrMatrix = dataset.corr(method='pearson')\n",
    "plt.figure(figsize=(10, 8))\n",
    "sn.heatmap(corrMatrix, annot=True, cmap=sn.diverging_palette(220, 10, as_cmap=True))\n",
    "plt.show()\n",
    "corrMatrix = dataset.corr(method='spearman')\n",
    "plt.figure(figsize=(10, 8))\n",
    "sn.heatmap(corrMatrix, annot=True, cmap=sn.diverging_palette(220, 10, as_cmap=True))\n",
    "plt.show()"
   ]
  },
  {
   "cell_type": "markdown",
   "metadata": {},
   "source": [
    "### Europe"
   ]
  },
  {
   "cell_type": "code",
   "execution_count": 119,
   "metadata": {},
   "outputs": [
    {
     "data": {
      "text/html": [
       "<div>\n",
       "<style scoped>\n",
       "    .dataframe tbody tr th:only-of-type {\n",
       "        vertical-align: middle;\n",
       "    }\n",
       "\n",
       "    .dataframe tbody tr th {\n",
       "        vertical-align: top;\n",
       "    }\n",
       "\n",
       "    .dataframe thead th {\n",
       "        text-align: right;\n",
       "    }\n",
       "</style>\n",
       "<table border=\"1\" class=\"dataframe\">\n",
       "  <thead>\n",
       "    <tr style=\"text-align: right;\">\n",
       "      <th></th>\n",
       "      <th>Country Code</th>\n",
       "      <th>Avg Temp</th>\n",
       "    </tr>\n",
       "  </thead>\n",
       "  <tbody>\n",
       "    <tr>\n",
       "      <th>0</th>\n",
       "      <td>GBR</td>\n",
       "      <td>8.45</td>\n",
       "    </tr>\n",
       "    <tr>\n",
       "      <th>1</th>\n",
       "      <td>RUS</td>\n",
       "      <td>-5.10</td>\n",
       "    </tr>\n",
       "    <tr>\n",
       "      <th>2</th>\n",
       "      <td>POL</td>\n",
       "      <td>7.85</td>\n",
       "    </tr>\n",
       "    <tr>\n",
       "      <th>3</th>\n",
       "      <td>ITA</td>\n",
       "      <td>13.45</td>\n",
       "    </tr>\n",
       "    <tr>\n",
       "      <th>4</th>\n",
       "      <td>LTU</td>\n",
       "      <td>6.20</td>\n",
       "    </tr>\n",
       "  </tbody>\n",
       "</table>\n",
       "</div>"
      ],
      "text/plain": [
       "  Country Code  Avg Temp\n",
       "0          GBR      8.45\n",
       "1          RUS     -5.10\n",
       "2          POL      7.85\n",
       "3          ITA     13.45\n",
       "4          LTU      6.20"
      ]
     },
     "execution_count": 119,
     "metadata": {},
     "output_type": "execute_result"
    }
   ],
   "source": [
    "countries = [\"United Kingdom\", 'Russia', 'Poland', 'Italy', 'Lithuania','France', 'Sweden', 'Spain', 'Czech Republic']\n",
    "avg_temp = {'GBR':8.45, 'RUS':-5.1, 'POL':7.85, 'ITA':13.45, 'LTU':6.2, 'FRA':10.7, 'SWE':2.1, 'ESP':13.3, 'CZE':7.55}\n",
    "temp_europe = pd.DataFrame(avg_temp.items())\n",
    "temp_europe.columns = ['Country Code', 'Avg Temp']\n",
    "temp_europe.head()"
   ]
  },
  {
   "cell_type": "code",
   "execution_count": 120,
   "metadata": {},
   "outputs": [
    {
     "data": {
      "text/html": [
       "<div>\n",
       "<style scoped>\n",
       "    .dataframe tbody tr th:only-of-type {\n",
       "        vertical-align: middle;\n",
       "    }\n",
       "\n",
       "    .dataframe tbody tr th {\n",
       "        vertical-align: top;\n",
       "    }\n",
       "\n",
       "    .dataframe thead th {\n",
       "        text-align: right;\n",
       "    }\n",
       "</style>\n",
       "<table border=\"1\" class=\"dataframe\">\n",
       "  <thead>\n",
       "    <tr style=\"text-align: right;\">\n",
       "      <th></th>\n",
       "      <th>Country Code</th>\n",
       "      <th>TableName</th>\n",
       "      <th>IncomeGroup</th>\n",
       "      <th>Density_2018</th>\n",
       "      <th>Confirmed Cases</th>\n",
       "      <th>Deaths</th>\n",
       "      <th>Mortality Rate</th>\n",
       "      <th>Population_2019</th>\n",
       "      <th>GDP_2019</th>\n",
       "      <th>GDP_per_cap_2019</th>\n",
       "      <th>Main Leader Gender</th>\n",
       "      <th>Any Leader Gender</th>\n",
       "      <th>Avg Temp_x</th>\n",
       "      <th>Normalized Cases</th>\n",
       "      <th>Normalized Deaths</th>\n",
       "      <th>Avg Temp_y</th>\n",
       "    </tr>\n",
       "  </thead>\n",
       "  <tbody>\n",
       "    <tr>\n",
       "      <th>0</th>\n",
       "      <td>CZE</td>\n",
       "      <td>Czech Republic</td>\n",
       "      <td>High income</td>\n",
       "      <td>137.657705</td>\n",
       "      <td>63294.0</td>\n",
       "      <td>591.0</td>\n",
       "      <td>0.933738</td>\n",
       "      <td>10669709.0</td>\n",
       "      <td>2.464892e+11</td>\n",
       "      <td>42575.611478</td>\n",
       "      <td>M</td>\n",
       "      <td>M</td>\n",
       "      <td>7.55</td>\n",
       "      <td>0.005932</td>\n",
       "      <td>0.000055</td>\n",
       "      <td>7.55</td>\n",
       "    </tr>\n",
       "    <tr>\n",
       "      <th>1</th>\n",
       "      <td>LTU</td>\n",
       "      <td>Lithuania</td>\n",
       "      <td>High income</td>\n",
       "      <td>44.723076</td>\n",
       "      <td>4295.0</td>\n",
       "      <td>89.0</td>\n",
       "      <td>2.072177</td>\n",
       "      <td>2786844.0</td>\n",
       "      <td>5.421932e+10</td>\n",
       "      <td>38214.206930</td>\n",
       "      <td>M</td>\n",
       "      <td>M</td>\n",
       "      <td>6.20</td>\n",
       "      <td>0.001541</td>\n",
       "      <td>0.000032</td>\n",
       "      <td>6.20</td>\n",
       "    </tr>\n",
       "    <tr>\n",
       "      <th>2</th>\n",
       "      <td>SWE</td>\n",
       "      <td>Sweden</td>\n",
       "      <td>High income</td>\n",
       "      <td>24.981498</td>\n",
       "      <td>90923.0</td>\n",
       "      <td>5880.0</td>\n",
       "      <td>6.467011</td>\n",
       "      <td>10285453.0</td>\n",
       "      <td>5.308329e+11</td>\n",
       "      <td>55814.512654</td>\n",
       "      <td>M</td>\n",
       "      <td>M</td>\n",
       "      <td>2.10</td>\n",
       "      <td>0.008840</td>\n",
       "      <td>0.000572</td>\n",
       "      <td>2.10</td>\n",
       "    </tr>\n",
       "  </tbody>\n",
       "</table>\n",
       "</div>"
      ],
      "text/plain": [
       "  Country Code       TableName  IncomeGroup  Density_2018  Confirmed Cases  \\\n",
       "0          CZE  Czech Republic  High income    137.657705          63294.0   \n",
       "1          LTU       Lithuania  High income     44.723076           4295.0   \n",
       "2          SWE          Sweden  High income     24.981498          90923.0   \n",
       "\n",
       "   Deaths  Mortality Rate  Population_2019      GDP_2019  GDP_per_cap_2019  \\\n",
       "0   591.0        0.933738       10669709.0  2.464892e+11      42575.611478   \n",
       "1    89.0        2.072177        2786844.0  5.421932e+10      38214.206930   \n",
       "2  5880.0        6.467011       10285453.0  5.308329e+11      55814.512654   \n",
       "\n",
       "  Main Leader Gender Any Leader Gender  Avg Temp_x  Normalized Cases  \\\n",
       "0                  M                 M        7.55          0.005932   \n",
       "1                  M                 M        6.20          0.001541   \n",
       "2                  M                 M        2.10          0.008840   \n",
       "\n",
       "   Normalized Deaths  Avg Temp_y  \n",
       "0           0.000055        7.55  \n",
       "1           0.000032        6.20  \n",
       "2           0.000572        2.10  "
      ]
     },
     "execution_count": 120,
     "metadata": {},
     "output_type": "execute_result"
    }
   ],
   "source": [
    "europe_dataset = pd.merge(dataset, temp_europe, on='Country Code')\n",
    "europe_dataset.head()"
   ]
  },
  {
   "cell_type": "code",
   "execution_count": 121,
   "metadata": {},
   "outputs": [
    {
     "data": {
      "application/vnd.jupyter.widget-view+json": {
       "model_id": "ee346c1e5fbf4d3aac763561dc020668",
       "version_major": 2,
       "version_minor": 0
      },
      "text/plain": [
       "HBox(children=(FloatProgress(value=0.0, description='Summarize dataset', max=30.0, style=ProgressStyle(descrip…"
      ]
     },
     "metadata": {},
     "output_type": "display_data"
    },
    {
     "name": "stdout",
     "output_type": "stream",
     "text": [
      "\n"
     ]
    },
    {
     "data": {
      "application/vnd.jupyter.widget-view+json": {
       "model_id": "b364ac05f5b34ead83cb2b446523ad72",
       "version_major": 2,
       "version_minor": 0
      },
      "text/plain": [
       "HBox(children=(FloatProgress(value=0.0, description='Generate report structure', max=1.0, style=ProgressStyle(…"
      ]
     },
     "metadata": {},
     "output_type": "display_data"
    },
    {
     "name": "stdout",
     "output_type": "stream",
     "text": [
      "\n"
     ]
    },
    {
     "data": {
      "application/vnd.jupyter.widget-view+json": {
       "model_id": "bf0e3b3b8328459eae1ccff74fff509e",
       "version_major": 2,
       "version_minor": 0
      },
      "text/plain": [
       "HBox(children=(FloatProgress(value=0.0, description='Render HTML', max=1.0, style=ProgressStyle(description_wi…"
      ]
     },
     "metadata": {},
     "output_type": "display_data"
    },
    {
     "name": "stdout",
     "output_type": "stream",
     "text": [
      "\n"
     ]
    },
    {
     "data": {
      "application/vnd.jupyter.widget-view+json": {
       "model_id": "141d7b5e813d4e49b98f05f323eef5bf",
       "version_major": 2,
       "version_minor": 0
      },
      "text/plain": [
       "HBox(children=(FloatProgress(value=0.0, description='Export report to file', max=1.0, style=ProgressStyle(desc…"
      ]
     },
     "metadata": {},
     "output_type": "display_data"
    },
    {
     "name": "stdout",
     "output_type": "stream",
     "text": [
      "\n"
     ]
    }
   ],
   "source": [
    "pandas_report = ProfileReport(europe_dataset)\n",
    "pandas_report.to_file(output_file='my EDA/pandas_report_europe.html')"
   ]
  },
  {
   "cell_type": "markdown",
   "metadata": {},
   "source": [
    "### Correlations"
   ]
  },
  {
   "cell_type": "code",
   "execution_count": null,
   "metadata": {},
   "outputs": [],
   "source": []
  }
 ],
 "metadata": {
  "kernelspec": {
   "display_name": "Python 3",
   "language": "python",
   "name": "python3"
  },
  "language_info": {
   "codemirror_mode": {
    "name": "ipython",
    "version": 3
   },
   "file_extension": ".py",
   "mimetype": "text/x-python",
   "name": "python",
   "nbconvert_exporter": "python",
   "pygments_lexer": "ipython3",
   "version": "3.8.3"
  }
 },
 "nbformat": 4,
 "nbformat_minor": 4
}
